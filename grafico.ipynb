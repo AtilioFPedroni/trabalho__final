{
 "cells": [
  {
   "cell_type": "markdown",
   "metadata": {},
   "source": [
    "# Bibliotecas "
   ]
  },
  {
   "cell_type": "code",
   "execution_count": 2,
   "metadata": {},
   "outputs": [
    {
     "name": "stdout",
     "output_type": "stream",
     "text": [
      "Note: you may need to restart the kernel to use updated packages.\n"
     ]
    }
   ],
   "source": [
    "%pip install numpy matplotlib -q"
   ]
  },
  {
   "cell_type": "code",
   "execution_count": 3,
   "metadata": {},
   "outputs": [],
   "source": [
    "import numpy as np\n",
    "import matplotlib.pyplot as plt"
   ]
  },
  {
   "cell_type": "markdown",
   "metadata": {},
   "source": [
    "# Função para ler o dados do arquivo automato.dat"
   ]
  },
  {
   "cell_type": "code",
   "execution_count": 4,
   "metadata": {},
   "outputs": [],
   "source": [
    "def ler_dados(filename):\n",
    "    data = [] # Lista para armazenar os dados\n",
    "    max_len = 0 # Variável para armazenar o tamanho da maior linha\n",
    "\n",
    "    # Abre o arquivo para leitura\n",
    "    with open(filename, 'r') as f:\n",
    "        for line in f:\n",
    "            linha = [1 if char ==\"*\" else 0 for char in line.strip()] # Converte a linha para uma lista de 0's e 1's\n",
    "            data.append(linha) # Adiciona a linha na lista de dados\n",
    "            max_len = max(max_len, len(linha))\n",
    "        \n",
    "        for i in range(len(data)): # Para cada linha\n",
    "            while len(data[i]) < max_len:\n",
    "                data[i].append(0)\n",
    "        \n",
    "        return np.array(data) # Converte a lista de dados para um array numpy\n",
    "    \n",
    "            \n"
   ]
  },
  {
   "cell_type": "code",
   "execution_count": null,
   "metadata": {},
   "outputs": [],
   "source": []
  }
 ],
 "metadata": {
  "kernelspec": {
   "display_name": ".venv",
   "language": "python",
   "name": "python3"
  },
  "language_info": {
   "codemirror_mode": {
    "name": "ipython",
    "version": 3
   },
   "file_extension": ".py",
   "mimetype": "text/x-python",
   "name": "python",
   "nbconvert_exporter": "python",
   "pygments_lexer": "ipython3",
   "version": "3.10.12"
  }
 },
 "nbformat": 4,
 "nbformat_minor": 2
}
